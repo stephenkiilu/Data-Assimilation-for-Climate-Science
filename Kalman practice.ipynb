{
 "cells": [
  {
   "cell_type": "code",
   "execution_count": 1,
   "metadata": {},
   "outputs": [],
   "source": [
    "import numpy as np\n",
    "import matplotlib.pyplot as plt"
   ]
  },
  {
   "cell_type": "code",
   "execution_count": 195,
   "metadata": {},
   "outputs": [],
   "source": [
    "def h(t):\n",
    "    if t <=10:\n",
    "        return 1\n",
    "    elif 10<=t <=20:\n",
    "        return 0.1\n",
    "    else:\n",
    "        return 1"
   ]
  },
  {
   "cell_type": "code",
   "execution_count": 196,
   "metadata": {},
   "outputs": [],
   "source": [
    "T=30\n",
    "t=np.linspace(0,T,T+1)\n",
    "mu=0\n",
    "q2=0.001\n",
    "r2=0.05\n",
    "x=np.zeros(T+1)\n",
    "y=np.zeros(T)\n",
    "Y=np.zeros(T+1)\n",
    "alpha=0.9\n",
    "x0=np.random.normal(0.1,0.01**2)\n",
    "x[0]=x0\n",
    "\n",
    "for i in range(1,T+1):\n",
    "    e=np.random.normal(mu,r2**2)\n",
    "    delta=np.random.normal(mu,q2**2)\n",
    "    delta1=np.random.normal(mu,q2**2)\n",
    "    x[i]=alpha*x[i-1]*(1-x[i-1])+delta\n",
    "y=x[1:]+np.random.normal(mu,r2**2,T)\n",
    "  \n"
   ]
  },
  {
   "cell_type": "code",
   "execution_count": 197,
   "metadata": {},
   "outputs": [
    {
     "data": {
      "text/plain": [
       "[<matplotlib.lines.Line2D at 0x26ac22833c8>]"
      ]
     },
     "execution_count": 197,
     "metadata": {},
     "output_type": "execute_result"
    },
    {
     "data": {
      "image/png": "[encoded data removed]",
      "text/plain": [
       "<Figure size 432x288 with 1 Axes>"
      ]
     },
     "metadata": {
      "needs_background": "light"
     },
     "output_type": "display_data"
    }
   ],
   "source": [
    "\n",
    "plt.plot(t[1:],x[1:])\n",
    "plt.plot(t[1:],y,\".\")\n"
   ]
  },
  {
   "cell_type": "code",
   "execution_count": null,
   "metadata": {},
   "outputs": [],
   "source": [
    "# def h(t):\n",
    "#     if t<10:\n",
    "#         return 1\n",
    "#     elif 11<t<=20:\n",
    "#         return 0.1\n",
    "#     else:\n",
    "#         return 1"
   ]
  },
  {
   "cell_type": "code",
   "execution_count": 91,
   "metadata": {},
   "outputs": [],
   "source": [
    "def m(x,alpha):\n",
    "    return alpha*x*(1-x)"
   ]
  },
  {
   "cell_type": "code",
   "execution_count": 92,
   "metadata": {},
   "outputs": [],
   "source": [
    "def M(x,alpha):\n",
    "    return alpha*(1-x)"
   ]
  },
  {
   "cell_type": "code",
   "execution_count": 93,
   "metadata": {},
   "outputs": [],
   "source": [
    "def h(x):\n",
    "    return h"
   ]
  },
  {
   "cell_type": "code",
   "execution_count": 94,
   "metadata": {},
   "outputs": [],
   "source": [
    "def H(x):\n",
    "    return 1"
   ]
  },
  {
   "cell_type": "code",
   "execution_count": 83,
   "metadata": {},
   "outputs": [],
   "source": []
  },
  {
   "cell_type": "code",
   "execution_count": 95,
   "metadata": {},
   "outputs": [],
   "source": [
    "def h(t):\n",
    "    if t<10:\n",
    "        return 1\n",
    "    elif 10<=t <=20:\n",
    "        return 0.1\n",
    "    else:\n",
    "        return 1"
   ]
  },
  {
   "cell_type": "code",
   "execution_count": 107,
   "metadata": {},
   "outputs": [],
   "source": []
  },
  {
   "cell_type": "code",
   "execution_count": 6,
   "metadata": {},
   "outputs": [],
   "source": [
    "A=np.array([[2, 0., 0.],\n",
    "       [0., 3, 0.],\n",
    "       [0., 0., 4]])"
   ]
  },
  {
   "cell_type": "code",
   "execution_count": 7,
   "metadata": {},
   "outputs": [
    {
     "data": {
      "text/plain": [
       "array([[0.5       , 0.        , 0.        ],\n",
       "       [0.        , 0.33333333, 0.        ],\n",
       "       [0.        , 0.        , 0.25      ]])"
      ]
     },
     "execution_count": 7,
     "metadata": {},
     "output_type": "execute_result"
    }
   ],
   "source": [
    "np.linalg.inv(A)"
   ]
  },
  {
   "cell_type": "code",
   "execution_count": null,
   "metadata": {},
   "outputs": [],
   "source": []
  }
 ],
 "metadata": {
  "kernelspec": {
   "display_name": "Python 3",
   "language": "python",
   "name": "python3"
  },
  "language_info": {
   "codemirror_mode": {
    "name": "ipython",
    "version": 3
   },
   "file_extension": ".py",
   "mimetype": "text/x-python",
   "name": "python",
   "nbconvert_exporter": "python",
   "pygments_lexer": "ipython3",
   "version": "3.7.4"
  }
 },
 "nbformat": 4,
 "nbformat_minor": 2
}
